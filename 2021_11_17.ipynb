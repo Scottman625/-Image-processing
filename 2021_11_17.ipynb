{
  "nbformat": 4,
  "nbformat_minor": 0,
  "metadata": {
    "colab": {
      "name": "2021-11-17.ipynb",
      "provenance": [],
      "collapsed_sections": [],
      "mount_file_id": "1ezKN0aAVynRfAG8Hsu84jr0QphSCUrfB",
      "authorship_tag": "ABX9TyO60Jazoj8KsofVr3Pzco95",
      "include_colab_link": true
    },
    "kernelspec": {
      "name": "python3",
      "display_name": "Python 3"
    },
    "language_info": {
      "name": "python"
    }
  },
  "cells": [
    {
      "cell_type": "markdown",
      "metadata": {
        "id": "view-in-github",
        "colab_type": "text"
      },
      "source": [
        "<a href=\"https://colab.research.google.com/github/Scottman625/Tibame-AI/blob/main/2021_11_17.ipynb\" target=\"_parent\"><img src=\"https://colab.research.google.com/assets/colab-badge.svg\" alt=\"Open In Colab\"/></a>"
      ]
    },
    {
      "cell_type": "code",
      "metadata": {
        "colab": {
          "base_uri": "https://localhost:8080/"
        },
        "id": "A6_6UTBNudd-",
        "outputId": "11e64875-0b6a-4c80-c442-8da4ac6dd979"
      },
      "source": [
        "pip install pymysql"
      ],
      "execution_count": null,
      "outputs": [
        {
          "output_type": "stream",
          "name": "stdout",
          "text": [
            "Collecting pymysql\n",
            "  Downloading PyMySQL-1.0.2-py3-none-any.whl (43 kB)\n",
            "\u001b[?25l\r\u001b[K     |███████▌                        | 10 kB 16.3 MB/s eta 0:00:01\r\u001b[K     |███████████████                 | 20 kB 13.7 MB/s eta 0:00:01\r\u001b[K     |██████████████████████▍         | 30 kB 10.2 MB/s eta 0:00:01\r\u001b[K     |██████████████████████████████  | 40 kB 8.7 MB/s eta 0:00:01\r\u001b[K     |████████████████████████████████| 43 kB 959 kB/s \n",
            "\u001b[?25hInstalling collected packages: pymysql\n",
            "Successfully installed pymysql-1.0.2\n"
          ]
        }
      ]
    },
    {
      "cell_type": "code",
      "metadata": {
        "colab": {
          "base_uri": "https://localhost:8080/"
        },
        "id": "G491qO0F0ZTQ",
        "outputId": "83ab401d-b487-4404-b757-2aae7ea9f22d"
      },
      "source": [
        "import pymysql\n",
        "\n",
        "c1=pymysql.connect(\n",
        "    host=\"4.tcp.ngrok.io\",\n",
        "    user=\"root\",\n",
        "    passwd=\"\",\n",
        "    db=\"2021-11-17\",\n",
        "    charset=\"utf8\",\n",
        "    port=13068\n",
        ")\n",
        "\n",
        "cur=c1.cursor()\n",
        "# data=[input(\"標題: \"),input(\"描述: \"),input(\"單位: \"),input(\"日期: \")]\n",
        "# cur.execute(\"INSERT INTO `news`(`title`,`description`,`unit`,`create_date`)VALUES(%s,%s,%s,%s)\",data)\n",
        "# data={}\n",
        "# data[\"a\"]=input(\"日期: \")\n",
        "# data[\"b\"]=input(\"單位: \")\n",
        "# data[\"c\"]=input(\"標題: \")\n",
        "# data[\"d\"]=input(\"描述: \")\n",
        "\n",
        "\n",
        "# cur.execute(\"INSERT INTO `news`(`title`,`description`,`unit`,`create_date`)VALUES(%(c)s,%(d)s,%(b)s,%(a)s)\",data)\n",
        "\n",
        "# c1.commit()\n",
        "cur.execute(\"SELECT * FROM `news`\")\n",
        "d=cur.fetchone()\n",
        "print(d)\n",
        "d=cur.fetchone()\n",
        "print(d)\n",
        "d=cur.fetchone()\n",
        "print(d)\n",
        "d=cur.fetchall()\n",
        "print(d)\n",
        "\n",
        "c1.close"
      ],
      "execution_count": null,
      "outputs": [
        {
          "output_type": "stream",
          "name": "stdout",
          "text": [
            "(1, '安杰物業突圍出擊 緯育TibaMe助陣打造物業黃埔軍校', '結合緯育TibaMe的育成平台與服務，共同打造快速、高效、系統化的規模化培訓，協助國家提升戰鬥力、提升服務轉型競爭力，將服務推向國際，打造傑出服務人才...', '經濟日報', datetime.date(2021, 11, 13))\n",
            "(2, '疫情不必停學緯育TibaMe課程無縫轉線上｜ 蘋果新聞網｜ 蘋果 ...', '面對這波COVID-19新冠病毒的強勢來襲，實體課程遭嚴重考驗，很多線下轉線上都失敗，緯創旗下緯育TibaMe就業養成班的經驗，足以各界參考。', '蘋果日報', datetime.date(2021, 5, 20))\n",
            "(3, '媒合電商與創作者合作 首屆亞洲創作者大會12月登場', '現場也邀請到業界專家，包含前資策會X緯育TIBAME團隊數位轉型外部顧問、打開網路就有錢暢銷書作者、單支影片達45萬觀看人次的旅行YouTuber、經營部落...', 'Yahoo奇摩新聞', datetime.date(2021, 11, 12))\n",
            "((4, '疫起挺過來緯創TibaMe免費公開遠距教學、辦公課程｜ 蘋果 ...', '新冠疫情進入三級警戒，疫情急撲而來，遠距教學需求一次爆發，在疫情升級的現在，緯創（3231）旗下緯育TibaMe公開前二屆的「百業千師」實務課程影片，...', '蘋果日報', datetime.date(2021, 5, 28)), (5, '緯育TibaMe、LiveABC 共推英文學程', '新冠疫情後，巿場最關注的是數位轉型及人才培育二大議題。緯育TibaMe與LiveABC聯手推出「英文學程」，瞄準國際化人才需求，培育更多國際化英文人才，...', '日報 - 中時新聞網', datetime.date(2021, 3, 19)), (7, '999', '9999', '9999', datetime.date(2020, 1, 1)), (8, 'xxxx', 'yyyy', 'zzzz', datetime.date(2021, 10, 10)), (9, 'bbb', 'ccc', 'aaa', datetime.date(2000, 1, 1)))\n"
          ]
        },
        {
          "output_type": "execute_result",
          "data": {
            "text/plain": [
              "<bound method Connection.close of <pymysql.connections.Connection object at 0x7f4959ebdb10>>"
            ]
          },
          "metadata": {},
          "execution_count": 24
        }
      ]
    },
    {
      "cell_type": "code",
      "metadata": {
        "colab": {
          "base_uri": "https://localhost:8080/"
        },
        "id": "ZNs8DQg5J3JY",
        "outputId": "6e2f8630-11fa-4747-f996-2958c37d0fc3"
      },
      "source": [
        "import prettytable,pymysql\n",
        "c1=pymysql.connect(\n",
        "    host=\"2.tcp.ngrok.io\",\n",
        "    user=\"root\",\n",
        "    passwd=\"\",\n",
        "    db=\"2021-11-17\",\n",
        "    charset=\"utf8\",\n",
        "    port=16282\n",
        ")\n",
        "cur=c1.cursor()\n",
        "\n",
        "\n",
        "\n",
        "\n",
        "def action():\n",
        "    loop = True\n",
        "    while loop:\n",
        "        print(\"(0) 離開程式\")\n",
        "        print(\"(1) 顯示會員列表\")\n",
        "        print(\"(2) 新增會員資料\")\n",
        "        print(\"(3) 更新會員資料\")\n",
        "        print(\"(4) 刪除會員資料\")\n",
        "        player_action = input(\"指令: \")\n",
        "        if player_action == '0':\n",
        "          break\n",
        "\n",
        "        elif player_action == '1':\n",
        "            home_act1()  # call the respective action function here\n",
        "\n",
        "        elif player_action == '2':\n",
        "            home_act2()\n",
        "\n",
        "        elif player_action == '3':\n",
        "            home_act3()\n",
        "\n",
        "        elif player_action == '4':\n",
        "            home_act4()\n",
        "\n",
        "        else:\n",
        "            player_action = input(\"指令: \")\n",
        "\n",
        "def home_act1():\n",
        "    p1=prettytable.PrettyTable([\"編號\",\"姓名\",\"生日\",\"地址\"], encoding=\"utf-8\")\n",
        "    cur.execute(\"SELECT * FROM `member`\")\n",
        "    d=cur.fetchall()\n",
        "    for i in range(len(d)):\n",
        "     p1.add_row([d[i][0],d[i][1],d[i][2],d[i][3]])\n",
        "    print(p1)\n",
        "    p1.clear()\n",
        "\n",
        "def home_act2():\n",
        "    data=[input(\"姓名: \"),input(\"生日: \"),input(\"地址: \")]\n",
        "\n",
        "    cur.execute(\"INSERT INTO `member`(`name`,`birthday`,`address`)VALUES(%s,%s,%s)\",data)\n",
        "    c1.commit()\n",
        "\n",
        "def home_act3():\n",
        "  data={}\n",
        "  data[\"a\"]=input(\"請選擇你要修改的資料編號：\")\n",
        "  data[\"b\"]=input(\"姓名: \")\n",
        "  data[\"c\"]=input(\"生日: \")\n",
        "  data[\"d\"]=input(\"地址: \")\n",
        "\n",
        "  cur.execute(\"update `member` set `name`= %(b)s ,`birthday`=%(c)s ,`address`=%(d)s  where `id` = %(a)s\",data)\n",
        "  c1.commit()\n",
        "def home_act4():\n",
        "  \n",
        "  a1=input(\"請選擇你要刪除的資料編號：\")\n",
        "  cur.execute(\"delete from `member` where `id` =%s\",a1)\n",
        "  c1.commit()\n",
        "action()\n",
        "\n",
        "\n",
        "\n",
        "    \n",
        "\n",
        "c1.close"
      ],
      "execution_count": null,
      "outputs": [
        {
          "name": "stdout",
          "output_type": "stream",
          "text": [
            "(0) 離開程式\n",
            "(1) 顯示會員列表\n",
            "(2) 新增會員資料\n",
            "(3) 更新會員資料\n",
            "(4) 刪除會員資料\n",
            "指令: 0\n"
          ]
        },
        {
          "output_type": "execute_result",
          "data": {
            "text/plain": [
              "<bound method Connection.close of <pymysql.connections.Connection object at 0x7f7479066090>>"
            ]
          },
          "metadata": {},
          "execution_count": 125
        }
      ]
    }
  ]
}